{
 "cells": [
  {
   "cell_type": "code",
   "execution_count": 1,
   "metadata": {},
   "outputs": [],
   "source": [
    "import pandas as pd\n",
    "import yaml"
   ]
  },
  {
   "cell_type": "code",
   "execution_count": 3,
   "metadata": {},
   "outputs": [
    {
     "name": "stdout",
     "output_type": "stream",
     "text": [
      "            repo_name  is_private         created_date  is_archived  language  \\\n",
      "0      animal_mosaics        True  2020-12-26 04:56:14         True      HTML   \n",
      "1      animal_mosaics        True  2020-12-26 04:56:14         True       CSS   \n",
      "2      animal_mosaics        True  2020-12-26 04:56:14         True  Markdown   \n",
      "3        AppCenso2011        True  2020-05-23 16:33:25         True         R   \n",
      "4        AppCenso2011        True  2020-05-23 16:33:25         True    Python   \n",
      "..                ...         ...                  ...          ...       ...   \n",
      "376  udemy_sales_dash       False  2021-02-23 23:58:18         True    Python   \n",
      "377  udemy_sales_dash       False  2021-02-23 23:58:18         True       CSS   \n",
      "378  udemy_sales_dash       False  2021-02-23 23:58:18         True  Markdown   \n",
      "379            vierci        True  2019-09-17 21:37:20         True         R   \n",
      "380            vierci        True  2019-09-17 21:37:20         True  Markdown   \n",
      "\n",
      "      size  \n",
      "0     5715  \n",
      "1     4778  \n",
      "2      150  \n",
      "3    13118  \n",
      "4     7168  \n",
      "..     ...  \n",
      "376  23754  \n",
      "377  14031  \n",
      "378    561  \n",
      "379   3737  \n",
      "380    127  \n",
      "\n",
      "[381 rows x 6 columns]\n"
     ]
    }
   ],
   "source": [
    "languages = pd.read_csv(\"languages.csv\")\n",
    "print(languages)"
   ]
  },
  {
   "cell_type": "code",
   "execution_count": 16,
   "metadata": {},
   "outputs": [
    {
     "name": "stdout",
     "output_type": "stream",
     "text": [
      "          language    color\n",
      "0    1C Enterprise  #814ccc\n",
      "1               4D  #004289\n",
      "2             ABAP  #e8274b\n",
      "3         ABAP CDS  #555e25\n",
      "4             ABNF  #cccccc\n",
      "..             ...      ...\n",
      "607     robots.txt  #cccccc\n",
      "608            sed  #64b970\n",
      "609            wdl  #42f1f4\n",
      "610           wisp  #7582d1\n",
      "611          xBase  #403a40\n",
      "\n",
      "[612 rows x 2 columns]\n"
     ]
    }
   ],
   "source": [
    "with open(f\"language_colors.yaml\", \"r\") as yaml_file:\n",
    "  colors_yaml = yaml.safe_load(yaml_file)\n",
    "colors = pd.DataFrame.from_dict({\n",
    "  \"language\": colors_yaml.keys(),\n",
    "  \"color\": colors_yaml.values()\n",
    "})\n",
    "print(colors)"
   ]
  },
  {
   "cell_type": "code",
   "execution_count": 17,
   "metadata": {},
   "outputs": [
    {
     "ename": "AttributeError",
     "evalue": "'dict_keys' object has no attribute 'merge'",
     "output_type": "error",
     "traceback": [
      "\u001b[0;31m---------------------------------------------------------------------------\u001b[0m",
      "\u001b[0;31mAttributeError\u001b[0m                            Traceback (most recent call last)",
      "\u001b[0;32m/var/folders/pg/4f8z0jtj2xz_sh4vxv1dxcpr0000gp/T/ipykernel_13856/3166067082.py\u001b[0m in \u001b[0;36m<module>\u001b[0;34m\u001b[0m\n\u001b[0;32m----> 1\u001b[0;31m languages.merge(\n\u001b[0m\u001b[1;32m      2\u001b[0m   \u001b[0mcolors\u001b[0m\u001b[0;34m,\u001b[0m\u001b[0;34m\u001b[0m\u001b[0;34m\u001b[0m\u001b[0m\n\u001b[1;32m      3\u001b[0m   \u001b[0mhow\u001b[0m \u001b[0;34m=\u001b[0m \u001b[0;34m\"left\"\u001b[0m\u001b[0;34m,\u001b[0m\u001b[0;34m\u001b[0m\u001b[0;34m\u001b[0m\u001b[0m\n\u001b[1;32m      4\u001b[0m   \u001b[0mon\u001b[0m \u001b[0;34m=\u001b[0m \u001b[0;34m\"language\"\u001b[0m\u001b[0;34m\u001b[0m\u001b[0;34m\u001b[0m\u001b[0m\n\u001b[1;32m      5\u001b[0m )\n",
      "\u001b[0;31mAttributeError\u001b[0m: 'dict_keys' object has no attribute 'merge'"
     ]
    }
   ],
   "source": [
    "languages.merge(\n",
    "  colors,\n",
    "  how = \"left\",\n",
    "  on = \"language\"\n",
    ")"
   ]
  },
  {
   "cell_type": "code",
   "execution_count": null,
   "metadata": {},
   "outputs": [],
   "source": []
  }
 ],
 "metadata": {
  "interpreter": {
   "hash": "bfc001dc8b40d7e5d83897a91dfa719a628a2138797a83664f64c08faf82dd09"
  },
  "kernelspec": {
   "display_name": "Python 3.7.9 64-bit ('personal_language_statistics-Dh2qtZVw': pipenv)",
   "language": "python",
   "name": "python3"
  },
  "language_info": {
   "codemirror_mode": {
    "name": "ipython",
    "version": 3
   },
   "file_extension": ".py",
   "mimetype": "text/x-python",
   "name": "python",
   "nbconvert_exporter": "python",
   "pygments_lexer": "ipython3",
   "version": "3.7.9"
  },
  "orig_nbformat": 4
 },
 "nbformat": 4,
 "nbformat_minor": 2
}
